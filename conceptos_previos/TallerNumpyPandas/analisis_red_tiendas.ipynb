{
 "cells": [
  {
   "cell_type": "code",
   "execution_count": 100,
   "id": "de987f08",
   "metadata": {},
   "outputs": [],
   "source": [
    "#================================================================================\n",
    "#1️⃣ IMPORTAR LA LIBRERIA DE PANDAS\n",
    "#================================================================================\n",
    "import pandas as pd\n",
    "#================================================================================"
   ]
  },
  {
   "cell_type": "code",
   "execution_count": 101,
   "id": "266776c3",
   "metadata": {},
   "outputs": [
    {
     "name": "stdout",
     "output_type": "stream",
     "text": [
      "===Ventas===\n",
      "   ID_Tienda    Producto  Cantidad_Vendida  Precio_Unitario Fecha_Venta\n",
      "0          1  Producto A                20              100  2023-01-05\n",
      "1          1  Producto B                15              200  2023-01-06\n",
      "2          2  Producto A                30              100  2023-01-07\n",
      "3          2  Producto C                25              300  2023-01-08\n",
      "4          3  Producto A                10              100  2023-01-09 \n",
      "\n",
      "===Inventarios===\n",
      "   ID_Tienda    Producto  Stock_Disponible Fecha_Actualización\n",
      "0          1  Producto A                50          2023-01-05\n",
      "1          1  Producto B                40          2023-01-06\n",
      "2          2  Producto A                60          2023-01-07\n",
      "3          2  Producto C                45          2023-01-08\n",
      "4          3  Producto A                30          2023-01-09 \n",
      "\n",
      "===satisfaccion===\n",
      "   ID_Tienda  Satisfacción_Promedio Fecha_Evaluación\n",
      "0          1                     85       2023-01-15\n",
      "1          2                     90       2023-01-15\n",
      "2          3                     70       2023-01-15\n",
      "3          4                     65       2023-01-15\n",
      "4          5                     55       2023-01-15 \n",
      "\n",
      "   ID_Tienda    Producto  Cantidad_Vendida  Precio_Unitario Fecha_Venta  \\\n",
      "0          1  Producto A                20              100  2023-01-05   \n",
      "1          1  Producto B                15              200  2023-01-06   \n",
      "2          2  Producto A                30              100  2023-01-07   \n",
      "3          2  Producto C                25              300  2023-01-08   \n",
      "4          3  Producto A                10              100  2023-01-09   \n",
      "5          3  Producto B                40              200  2023-01-10   \n",
      "6          4  Producto C                35              300  2023-01-11   \n",
      "7          4  Producto A                25              100  2023-01-12   \n",
      "8          5  Producto B                20              200  2023-01-13   \n",
      "9          5  Producto C                30              300  2023-01-14   \n",
      "\n",
      "   Ventas_totales  \n",
      "0            2000  \n",
      "1            3000  \n",
      "2            3000  \n",
      "3            7500  \n",
      "4            1000  \n",
      "5            8000  \n",
      "6           10500  \n",
      "7            2500  \n",
      "8            4000  \n",
      "9            9000  \n",
      "===VENTAS TOTALES POR TIENDA===\n",
      "   ID_Tienda  Ventas_totales\n",
      "0          1            5000\n",
      "1          2           10500\n",
      "2          3            9000\n",
      "3          4           13000\n",
      "4          5           13000\n",
      "=======VENTAS POR INVENTARIO=======\n",
      "   ID_Tienda    Producto  Cantidad_Vendida  Precio_Unitario Fecha_Venta  \\\n",
      "0          1  Producto A                20              100  2023-01-05   \n",
      "1          1  Producto B                15              200  2023-01-06   \n",
      "2          2  Producto A                30              100  2023-01-07   \n",
      "3          2  Producto C                25              300  2023-01-08   \n",
      "4          3  Producto A                10              100  2023-01-09   \n",
      "5          3  Producto B                40              200  2023-01-10   \n",
      "6          4  Producto C                35              300  2023-01-11   \n",
      "7          4  Producto A                25              100  2023-01-12   \n",
      "8          5  Producto B                20              200  2023-01-13   \n",
      "9          5  Producto C                30              300  2023-01-14   \n",
      "\n",
      "   Ventas_totales  Stock_Disponible Fecha_Actualización  \n",
      "0            2000                50          2023-01-05  \n",
      "1            3000                40          2023-01-06  \n",
      "2            3000                60          2023-01-07  \n",
      "3            7500                45          2023-01-08  \n",
      "4            1000                30          2023-01-09  \n",
      "5            8000                80          2023-01-10  \n",
      "6           10500                70          2023-01-11  \n",
      "7            2500                50          2023-01-12  \n",
      "8            4000                40          2023-01-13  \n",
      "9            9000                60          2023-01-14  \n",
      "========PROPORCION DE VENTAS POR INVENTARIOS==========\n",
      "   ID_Tienda    Producto  Cantidad_Vendida  Precio_Unitario Fecha_Venta  \\\n",
      "0          1  Producto A                20              100  2023-01-05   \n",
      "1          1  Producto B                15              200  2023-01-06   \n",
      "2          2  Producto A                30              100  2023-01-07   \n",
      "3          2  Producto C                25              300  2023-01-08   \n",
      "4          3  Producto A                10              100  2023-01-09   \n",
      "5          3  Producto B                40              200  2023-01-10   \n",
      "6          4  Producto C                35              300  2023-01-11   \n",
      "7          4  Producto A                25              100  2023-01-12   \n",
      "8          5  Producto B                20              200  2023-01-13   \n",
      "9          5  Producto C                30              300  2023-01-14   \n",
      "\n",
      "   Ventas_totales  Stock_Disponible Fecha_Actualización  Rotacion_inventarios  \n",
      "0            2000                50          2023-01-05              0.400000  \n",
      "1            3000                40          2023-01-06              0.375000  \n",
      "2            3000                60          2023-01-07              0.500000  \n",
      "3            7500                45          2023-01-08              0.555556  \n",
      "4            1000                30          2023-01-09              0.333333  \n",
      "5            8000                80          2023-01-10              0.500000  \n",
      "6           10500                70          2023-01-11              0.500000  \n",
      "7            2500                50          2023-01-12              0.500000  \n",
      "8            4000                40          2023-01-13              0.500000  \n",
      "9            9000                60          2023-01-14              0.500000  \n",
      "===== TIENDAS CON MENOR ROTACION DE INVENTARIOS========\n",
      "Empty DataFrame\n",
      "Columns: [ID_Tienda, Producto, Cantidad_Vendida, Precio_Unitario, Fecha_Venta, Ventas_totales, Stock_Disponible, Fecha_Actualización, Rotacion_inventarios]\n",
      "Index: []\n"
     ]
    }
   ],
   "source": [
    "#================================================================================\n",
    "#1️⃣ IMPORTAR LA LIBRERIA DE PANDAS\n",
    "#================================================================================\n",
    "import pandas as pd\n",
    "#================================================================================\n",
    "#2️⃣ CARGAR LOS ARCHIVOS CSV\n",
    "#================================================================================\n",
    "# Usamos pd.read_csv\n",
    "ventas_df = pd.read_csv(\"ventas.csv\") #df indica dataframe\n",
    "inventarios_df = pd.read_csv(\"inventarios.csv\")\n",
    "satisfaccion_df=pd.read_csv(\"satisfaccion.csv\")\n",
    "# ===============================================================================\n",
    "# 3️⃣ mostrar las primeras 3 filas\n",
    "# ===============================================================================\n",
    "print(\"===Ventas===\")\n",
    "print(ventas_df.head(),\"\\n\") #head() muestra los 5 primeros registros\n",
    "print(\"===Inventarios===\")\n",
    "print(inventarios_df.head(),\"\\n\")\n",
    "print(\"===satisfaccion===\")\n",
    "print(satisfaccion_df.head(),\"\\n\")\n",
    "#===============================================================================\n",
    "# 4️⃣ Limpiar datos (eliminar filas)\n",
    "#===============================================================================\n",
    "ventas_df = ventas_df.dropna()\n",
    "inventarios_df=inventarios_df.dropna()\n",
    "satisfaccion_df=satisfaccion_df.dropna()\n",
    "#===============================================================================\n",
    "# 5️⃣ Analisis con pandas\n",
    "#===============================================================================\n",
    "ventas_df[\"Ventas_totales\"]= ventas_df[\"Cantidad_Vendida\"] * ventas_df[\"Precio_Unitario\"]\n",
    "print(ventas_df)\n",
    "ventas_totale=ventas_df.groupby(\"ID_Tienda\")[\"Ventas_totales\"].sum().reset_index()\n",
    "print(\"===VENTAS TOTALES POR TIENDA===\")\n",
    "print(ventas_totale)\n",
    "#===============================================================================\n",
    "# 6️⃣ Rotacion de inventarios\n",
    "#===============================================================================\n",
    "ventas_inventarios = pd.merge(ventas_df,inventarios_df,on=[\"ID_Tienda\",\"Producto\"],how=\"inner\")\n",
    "#=============================================================================== \n",
    "#merge hace comparacion con dos ramas\n",
    "# on=[\"ID_tienda\",\"Producto\"] ----> clave de union es obligatoria \n",
    "#  how=\"inner\" solo conserva las filas que tienen coincidencias en ambas tablas o dataframes\n",
    "#===============================================================================\n",
    "print(\"=======VENTAS POR INVENTARIO=======\")\n",
    "print(ventas_inventarios)\n",
    "#===============================================================================\n",
    "# Rotacion de inventarios\n",
    "#===============================================================================\n",
    "ventas_inventarios[\"Rotacion_inventarios\"]=ventas_inventarios[\"Cantidad_Vendida\"] / ventas_inventarios[\"Stock_Disponible\"]\n",
    "print(\"========PROPORCION DE VENTAS POR INVENTARIOS==========\")\n",
    "print(ventas_inventarios)\n",
    "#===============================================================================\n",
    "# depurar inventarios criticos\n",
    "#===============================================================================\n",
    "print(\"===== TIENDAS CON MENOR ROTACION DE INVENTARIOS========\")\n",
    "ventascriticas= ventas_inventarios.query(\"Rotacion_inventarios <= 0.1\")\n",
    "print(ventascriticas)\n",
    "\n"
   ]
  },
  {
   "cell_type": "code",
   "execution_count": 102,
   "id": "188a0b90",
   "metadata": {},
   "outputs": [
    {
     "name": "stdout",
     "output_type": "stream",
     "text": [
      "=======SATISFACCCION POR SATISFACCION============\n",
      "   ID_Tienda    Producto  Cantidad_Vendida  Precio_Unitario Fecha_Venta  \\\n",
      "0          1  Producto A                20              100  2023-01-05   \n",
      "1          1  Producto B                15              200  2023-01-06   \n",
      "2          2  Producto A                30              100  2023-01-07   \n",
      "3          2  Producto C                25              300  2023-01-08   \n",
      "4          3  Producto A                10              100  2023-01-09   \n",
      "5          3  Producto B                40              200  2023-01-10   \n",
      "6          4  Producto C                35              300  2023-01-11   \n",
      "7          4  Producto A                25              100  2023-01-12   \n",
      "8          5  Producto B                20              200  2023-01-13   \n",
      "9          5  Producto C                30              300  2023-01-14   \n",
      "\n",
      "   Ventas_totales  Satisfacción_Promedio Fecha_Evaluación  \n",
      "0            2000                     85       2023-01-15  \n",
      "1            3000                     85       2023-01-15  \n",
      "2            3000                     90       2023-01-15  \n",
      "3            7500                     90       2023-01-15  \n",
      "4            1000                     70       2023-01-15  \n",
      "5            8000                     70       2023-01-15  \n",
      "6           10500                     65       2023-01-15  \n",
      "7            2500                     65       2023-01-15  \n",
      "8            4000                     55       2023-01-15  \n",
      "9            9000                     55       2023-01-15  \n",
      "===== TIENDAS CON SATISFACCION MENOR A 60% =======\n",
      "   ID_Tienda  Satisfacción_Promedio\n",
      "8          5                     55\n",
      "9          5                     55\n"
     ]
    }
   ],
   "source": [
    "##===============================================================================\n",
    "# ventas con satisfaccion al cliente \n",
    "#===============================================================================\n",
    "ventas_satisfaccion= pd.merge(ventas_df,satisfaccion_df,on = [\"ID_Tienda\"],how=\"inner\")\n",
    "print(\"=======SATISFACCCION POR SATISFACCION============\")\n",
    "print(ventas_satisfaccion)\n",
    "#depurar ventas con menos del 60% en satisfaccion al cliente\n",
    "satisfaccioncritica= ventas_satisfaccion.query(\"Satisfacción_Promedio <= 60\")\n",
    "print(\"===== TIENDAS CON SATISFACCION MENOR A 60% =======\")\n",
    "print(satisfaccioncritica[[\"ID_Tienda\",\"Satisfacción_Promedio\"]])"
   ]
  },
  {
   "cell_type": "code",
   "execution_count": 103,
   "id": "c63d7b55",
   "metadata": {},
   "outputs": [
    {
     "name": "stdout",
     "output_type": "stream",
     "text": [
      "==== VENTAS FUTURAS ====\n",
      "   ID_Tienda    Producto  Cantidad_Vendida  Precio_Unitario Fecha_Venta  \\\n",
      "0          1  Producto A                20              100  2023-01-05   \n",
      "1          1  Producto B                15              200  2023-01-06   \n",
      "2          2  Producto A                30              100  2023-01-07   \n",
      "3          2  Producto C                25              300  2023-01-08   \n",
      "4          3  Producto A                10              100  2023-01-09   \n",
      "5          3  Producto B                40              200  2023-01-10   \n",
      "6          4  Producto C                35              300  2023-01-11   \n",
      "7          4  Producto A                25              100  2023-01-12   \n",
      "8          5  Producto B                20              200  2023-01-13   \n",
      "9          5  Producto C                30              300  2023-01-14   \n",
      "\n",
      "   Ventas_totales  Ventasfuturas  \n",
      "0            2000              3  \n",
      "1            3000              5  \n",
      "2            3000              5  \n",
      "3            7500              9  \n",
      "4            1000              5  \n",
      "5            8000              7  \n",
      "6           10500              5  \n",
      "7            2500              9  \n",
      "8            4000              8  \n",
      "9            9000              7  \n"
     ]
    }
   ],
   "source": [
    "#===============================================================================\n",
    "# Simular ventas futuras usando array random (propio)\n",
    "#===============================================================================\n",
    "import numpy as np\n",
    "ventas_dfcopy= ventas_df.copy()\n",
    "ventas_dfcopy[\"Ventasfuturas\"] = np.random.randint(3,10,size=len(ventas_dfcopy)) \n",
    "\"\"\"\n",
    "bajo: el número más bajo que puede salir (incluido).\n",
    "\n",
    "alto: el número más alto que NO se incluye.\n",
    "\n",
    "size: la cantidad total de números aleatorios que quieres generar.\n",
    "\"\"\"\n",
    "print(\"==== VENTAS FUTURAS ====\")\n",
    "print(ventas_dfcopy)"
   ]
  },
  {
   "cell_type": "code",
   "execution_count": 110,
   "id": "860385d9",
   "metadata": {},
   "outputs": [
    {
     "data": {
      "text/plain": [
       "<function matplotlib.pyplot.show(close=None, block=None)>"
      ]
     },
     "execution_count": 110,
     "metadata": {},
     "output_type": "execute_result"
    },
    {
     "data": {
      "image/png": "[encoded data removed]",
      "text/plain": [
       "<Figure size 640x480 with 1 Axes>"
      ]
     },
     "metadata": {},
     "output_type": "display_data"
    }
   ],
   "source": [
    "#===============================================================================\n",
    "# Simular ventas futuras usando array random (propio)\n",
    "#===============================================================================\n",
    "import numpy as np\n",
    "import matplotlib.pyplot as pub\n",
    "#Generar datos aleatorios para 10 puntos en el tiempo\n",
    "tiempo=np.arange(10)\n",
    "ventas_aleatorias=np.random.rand(10)*10000\n",
    "#Proyectar las ventas con una tendencia lineal\n",
    "pendiente = 50\n",
    "interseccion = 1000\n",
    "ventas_proyectadas = pendiente*tiempo+interseccion+ventas_aleatorias\n",
    "pub.plot(tiempo,ventas_proyectadas,label=\"Ventas proyectadas\", color = \"indigo\")\n",
    "pub.xlabel(\"Tiempo\")\n",
    "pub.ylabel(\"Ventas\")\n",
    "pub.legend()\n",
    "\n",
    "pub.show"
   ]
  },
  {
   "cell_type": "markdown",
   "id": "573ac266",
   "metadata": {},
   "source": []
  },
  {
   "cell_type": "code",
   "execution_count": 111,
   "id": "976d1673",
   "metadata": {},
   "outputs": [
    {
     "name": "stdout",
     "output_type": "stream",
     "text": [
      "====MEDIANA DE LAS VENTAS TOTALES====\n",
      "la mediana de las ventas totales es: 10100.0\n",
      "====DESVIACION ESTANDAR DE LA VENTAS TOTALES=====\n",
      "la desviacion estandar de las ventas totales es:3324.1540277189324\n"
     ]
    }
   ],
   "source": [
    "#===============================================================================\n",
    "# calular la mediana y desviacion estandas de las ventas\n",
    "#===============================================================================\n",
    "Estadisticas = ventas_totale[\"Ventas_totales\"].describe()\n",
    "\n",
    "print(\"====MEDIANA DE LAS VENTAS TOTALES====\")\n",
    "print(f\"la mediana de las ventas totales es: {Estadisticas[\"mean\"]}\")\n",
    "print(\"====DESVIACION ESTANDAR DE LA VENTAS TOTALES=====\")\n",
    "print(f\"la desviacion estandar de las ventas totales es:{Estadisticas[\"std\"]}\")\n"
   ]
  },
  {
   "cell_type": "code",
   "execution_count": 112,
   "id": "ba950fab",
   "metadata": {},
   "outputs": [
    {
     "data": {
      "image/png": "[encoded data removed]",
      "text/plain": [
       "<Figure size 640x480 with 1 Axes>"
      ]
     },
     "metadata": {},
     "output_type": "display_data"
    }
   ],
   "source": [
    "#===============================================================================\n",
    "# graficar las ventas totales con un histograma\n",
    "#===============================================================================\n",
    "import matplotlib.pyplot as pub\n",
    "ventas = ventas_df[\"Ventas_totales\"]\n",
    "pub.bar(ventas_df[\"ID_Tienda\"],ventas_df[\"Ventas_totales\"], color=\"green\")\n",
    "pub.show()"
   ]
  }
 ],
 "metadata": {
  "kernelspec": {
   "display_name": "Python 3",
   "language": "python",
   "name": "python3"
  },
  "language_info": {
   "codemirror_mode": {
    "name": "ipython",
    "version": 3
   },
   "file_extension": ".py",
   "mimetype": "text/x-python",
   "name": "python",
   "nbconvert_exporter": "python",
   "pygments_lexer": "ipython3",
   "version": "3.13.5"
  }
 },
 "nbformat": 4,
 "nbformat_minor": 5
}
