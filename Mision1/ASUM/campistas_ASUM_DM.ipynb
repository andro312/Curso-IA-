{
  "cells": [
    {
      "cell_type": "markdown",
      "metadata": {
        "id": "d5gO4Q91t5e7"
      },
      "source": [
        "#ASUM-DM"
      ]
    },
    {
      "cell_type": "markdown",
      "metadata": {
        "id": "lELnlzZYusk9"
      },
      "source": [
        " Es un enfoque para la preparación y organización de datos que se enfoca en 5 etapas fundamentales:\n",
        "\n",
        "Análisis, selección, unificación, muestreo y depuración.\n",
        "\n",
        "Este proceso es útil para mejorar la calidad de los datos antes de usarlos en modelos de análisis y aprendizaje automático\n",
        "\n"
      ]
    },
    {
      "cell_type": "markdown",
      "metadata": {
        "id": "UBXoqA_svj8q"
      },
      "source": [
        "Contesto el problema:\n",
        "análisis de clientes para estrategias de marketing personalizada una empresa de servicios financieros quiere lanzar una campaña de marketing personalizada para sus clientes de varias ciudades.\n",
        " La idea es identificar perfiles de clientes en función de características como edad, ingresos y categoría de cliente para definir estrategias.\n",
        "\n",
        "El equipo de marketing ha solicitado los analistas de datos e identificar:\n"
      ]
    },
    {
      "cell_type": "markdown",
      "metadata": {
        "id": "iG5_iHKTwrfl"
      },
      "source": [
        "segmentos de clientes:\n",
        "agrupar a los clientes en función de su categoría, ingresos, edad y ciudad.\n",
        "\n",
        "Tendencias de ingresos:\n",
        " analizar la distribución de los ingresos mensuales y detectar patrones en diferentes ciudades y edades.\n",
        "\n",
        "Clientes potenciales:\n",
        "identificar clientes con altos ingresos y en categoría de alto valor(“A”) para campañas específicas.\n",
        "\n",
        "Sin embargo, el conjunto de datos tiene varios problemas qué dificultan el análisis directo, cómo duplicados, valores atípicos y errores tipográficos.\n",
        "\n",
        "Antes de aplicar modelos de segmentación y análisis de tendencias, es necesario limpiar y organizar la información\n"
      ]
    },
    {
      "cell_type": "markdown",
      "metadata": {
        "id": "mDFyqkoaxErQ"
      },
      "source": [
        "# 1 Análisis de los datos (A):"
      ]
    },
    {
      "cell_type": "markdown",
      "metadata": {
        "id": "F9vwpOZVxLcx"
      },
      "source": [
        "Objetivo:\n",
        "\n",
        " examinar la calidad y característica de los datos.\n",
        "\n",
        " Acciones:\n",
        "  revisar el conjunto de datos para identificar valores faltantes,  datos inconsistentes, duplicados, errores tipográficos y valores atípicos.\n",
        "\n",
        "Este paso permite entender el tipo de problema que podrían afectar el análisis y decidir cómo resolverlos.\n"
      ]
    },
    {
      "cell_type": "code",
      "execution_count": 1,
      "metadata": {},
      "outputs": [],
      "source": [
        "#importar librerias necesarias\n",
        "import pandas as pd"
      ]
    },
    {
      "cell_type": "code",
      "execution_count": null,
      "metadata": {},
      "outputs": [],
      "source": [
        "#leer el archivo csv en un DataFrame\n",
        "df = pd.read_csv(\"clientes_con_errores.csv\")\n",
        "#contar cantidad de registros\n",
        "df.count()"
      ]
    },
    {
      "cell_type": "code",
      "execution_count": null,
      "metadata": {},
      "outputs": [],
      "source": [
        "#mostrar primeras filas del dataframe\n",
        "print(\"======================Vista inicial del DataFrame===========================\")\n",
        "display(df.head()) #es como un print pero exclusivo para estos tipos de libros\n"
      ]
    },
    {
      "cell_type": "code",
      "execution_count": null,
      "metadata": {},
      "outputs": [],
      "source": [
        "# 1. verificar valores nulos\n",
        "print(\"\\n Valores nulos por columnas:\")\n",
        "df.isnull().sum()"
      ]
    },
    {
      "cell_type": "code",
      "execution_count": null,
      "metadata": {},
      "outputs": [],
      "source": [
        "# Identificar edades inconsistentes \n",
        "# consideremos que las edades válidas estan entre 18 y 90\n",
        "edades_inconsistentes = df[(df[\"Edad\"]<18)|(df['Edad']>90)|(df['Edad'].isnull())]\n",
        "print(edades_inconsistentes)"
      ]
    },
    {
      "cell_type": "code",
      "execution_count": null,
      "metadata": {},
      "outputs": [
        {
          "name": "stdout",
          "output_type": "stream",
          "text": [
            "Ciudades unicas\n",
            "['Ciudad_B' 'Ciudad123' 'ciudad_a' 'Ciudad_A' 'Ciudad-C']\n"
          ]
        }
      ],
      "source": [
        "# 3 identificar inconsistencias en los nombres de ciudad\n",
        "# ver una lista única de las ciudades ingresadas para detectar variaciones \n",
        "ciudade_unicas= df['Ciudad'].dropna().unique() #.unique identifica los nombres unicos y drop borra las repetidas\n",
        "print(\"Ciudades unicas\")\n",
        "print(ciudade_unicas)"
      ]
    },
    {
      "cell_type": "markdown",
      "metadata": {
        "id": "chqBNUV78Q0c"
      },
      "source": [
        "# 2 Selección  de los datos (S):"
      ]
    },
    {
      "cell_type": "markdown",
      "metadata": {
        "id": "G3gn6aVt8mRY"
      },
      "source": [
        "Objetivo: Elegir las variables y los registros más relevantes para el análisis.\n"
      ]
    },
    {
      "cell_type": "markdown",
      "metadata": {
        "id": "M-RjHNVX826r"
      },
      "source": [
        "Acciones: Determinar qué columna (atributos) y filas (registros) son útiles para el objetivo del análisis."
      ]
    },
    {
      "cell_type": "markdown",
      "metadata": {
        "id": "uCgsVBoO9YsR"
      },
      "source": [
        "Eliminar variables redundantes, irrelevantes o registros que no aportan valor lo cual ayuda a mejorar la eficiencia del procesamiento."
      ]
    },
    {
      "cell_type": "markdown",
      "metadata": {
        "id": "Cy1fi6-W-3Wr"
      },
      "source": [
        "Filtrado de flilas(registros):\n",
        "Eliminar registros que tengan:\n",
        "Edades fuera del rango razonable (18 a 90).\n",
        "ingresos no númericos o valores negativos.\n",
        "categorías de clientes a \"A\", \"B\", \"C\"\n",
        "\n",
        "\"A\" cliente de alto valor\n",
        "\n",
        "\"B\" cliente de valor medio\n",
        "\n",
        "\"C\" cliente de bajo valor"
      ]
    },
    {
      "cell_type": "code",
      "execution_count": null,
      "metadata": {},
      "outputs": [],
      "source": [
        "#Filtro de los datos\n",
        "# 1 seleccion de columnas utiles\n",
        "# 2 filtrado de valores inconsistentes\n",
        "# 3 filtrar edades en eun rango de 18 a 90 años\n",
        "df_filtrado = df[(df['Edad']>= 18) & (df['Edad']<=90)]\n",
        "df_filtrado"
      ]
    },
    {
      "cell_type": "code",
      "execution_count": 13,
      "metadata": {},
      "outputs": [
        {
          "name": "stderr",
          "output_type": "stream",
          "text": [
            "C:\\Users\\LENOVO\\AppData\\Local\\Temp\\ipykernel_3096\\2073530344.py:2: SettingWithCopyWarning: \n",
            "A value is trying to be set on a copy of a slice from a DataFrame.\n",
            "Try using .loc[row_indexer,col_indexer] = value instead\n",
            "\n",
            "See the caveats in the documentation: https://pandas.pydata.org/pandas-docs/stable/user_guide/indexing.html#returning-a-view-versus-a-copy\n",
            "  df_filtrado['Ingreso_mensual'] = pd.to_numeric(df_filtrado[\"Ingreso_mensual\"],\n"
          ]
        },
        {
          "data": {
            "text/html": [
              "<div>\n",
              "<style scoped>\n",
              "    .dataframe tbody tr th:only-of-type {\n",
              "        vertical-align: middle;\n",
              "    }\n",
              "\n",
              "    .dataframe tbody tr th {\n",
              "        vertical-align: top;\n",
              "    }\n",
              "\n",
              "    .dataframe thead th {\n",
              "        text-align: right;\n",
              "    }\n",
              "</style>\n",
              "<table border=\"1\" class=\"dataframe\">\n",
              "  <thead>\n",
              "    <tr style=\"text-align: right;\">\n",
              "      <th></th>\n",
              "      <th>ID_cliente</th>\n",
              "      <th>Edad</th>\n",
              "      <th>Ingreso_mensual</th>\n",
              "      <th>Categoría</th>\n",
              "      <th>Ciudad</th>\n",
              "      <th>País</th>\n",
              "    </tr>\n",
              "  </thead>\n",
              "  <tbody>\n",
              "    <tr>\n",
              "      <th>18</th>\n",
              "      <td>ID_019</td>\n",
              "      <td>22.0</td>\n",
              "      <td>12422.06</td>\n",
              "      <td>VIP</td>\n",
              "      <td>Ciudad_B</td>\n",
              "      <td>NaN</td>\n",
              "    </tr>\n",
              "    <tr>\n",
              "      <th>20</th>\n",
              "      <td>ID_021</td>\n",
              "      <td>29.0</td>\n",
              "      <td>3584.98</td>\n",
              "      <td>C</td>\n",
              "      <td>Ciudad_A</td>\n",
              "      <td>NaN</td>\n",
              "    </tr>\n",
              "    <tr>\n",
              "      <th>25</th>\n",
              "      <td>ID_026</td>\n",
              "      <td>29.0</td>\n",
              "      <td>11771.21</td>\n",
              "      <td>NaN</td>\n",
              "      <td>Ciudad_B</td>\n",
              "      <td>Pais_Y</td>\n",
              "    </tr>\n",
              "    <tr>\n",
              "      <th>42</th>\n",
              "      <td>ID_043</td>\n",
              "      <td>89.0</td>\n",
              "      <td>16732.84</td>\n",
              "      <td>b</td>\n",
              "      <td>Ciudad123</td>\n",
              "      <td>NaN</td>\n",
              "    </tr>\n",
              "    <tr>\n",
              "      <th>51</th>\n",
              "      <td>ID_052</td>\n",
              "      <td>54.0</td>\n",
              "      <td>13878.16</td>\n",
              "      <td>B</td>\n",
              "      <td>Ciudad_A</td>\n",
              "      <td>NaN</td>\n",
              "    </tr>\n",
              "    <tr>\n",
              "      <th>57</th>\n",
              "      <td>ID_116</td>\n",
              "      <td>78.0</td>\n",
              "      <td>5799.32</td>\n",
              "      <td>A</td>\n",
              "      <td>Ciudad123</td>\n",
              "      <td>NaN</td>\n",
              "    </tr>\n",
              "    <tr>\n",
              "      <th>76</th>\n",
              "      <td>ID_077</td>\n",
              "      <td>26.0</td>\n",
              "      <td>6953.78</td>\n",
              "      <td>B</td>\n",
              "      <td>Ciudad123</td>\n",
              "      <td>NaN</td>\n",
              "    </tr>\n",
              "    <tr>\n",
              "      <th>93</th>\n",
              "      <td>ID_094</td>\n",
              "      <td>72.0</td>\n",
              "      <td>14026.67</td>\n",
              "      <td>VIP</td>\n",
              "      <td>NaN</td>\n",
              "      <td>Pais_X</td>\n",
              "    </tr>\n",
              "    <tr>\n",
              "      <th>106</th>\n",
              "      <td>ID_107</td>\n",
              "      <td>24.0</td>\n",
              "      <td>3797.23</td>\n",
              "      <td>C</td>\n",
              "      <td>Ciudad_B</td>\n",
              "      <td>Pais_X</td>\n",
              "    </tr>\n",
              "    <tr>\n",
              "      <th>125</th>\n",
              "      <td>ID_126</td>\n",
              "      <td>56.0</td>\n",
              "      <td>5685.07</td>\n",
              "      <td>b</td>\n",
              "      <td>Ciudad123</td>\n",
              "      <td>NaN</td>\n",
              "    </tr>\n",
              "    <tr>\n",
              "      <th>138</th>\n",
              "      <td>ID_139</td>\n",
              "      <td>57.0</td>\n",
              "      <td>1861.35</td>\n",
              "      <td>A</td>\n",
              "      <td>NaN</td>\n",
              "      <td>Pais_X</td>\n",
              "    </tr>\n",
              "    <tr>\n",
              "      <th>153</th>\n",
              "      <td>ID_154</td>\n",
              "      <td>31.0</td>\n",
              "      <td>14234.22</td>\n",
              "      <td>B</td>\n",
              "      <td>Ciudad123</td>\n",
              "      <td>Pais_X</td>\n",
              "    </tr>\n",
              "    <tr>\n",
              "      <th>154</th>\n",
              "      <td>ID_155</td>\n",
              "      <td>51.0</td>\n",
              "      <td>1749.90</td>\n",
              "      <td>C</td>\n",
              "      <td>NaN</td>\n",
              "      <td>NaN</td>\n",
              "    </tr>\n",
              "    <tr>\n",
              "      <th>155</th>\n",
              "      <td>ID_156</td>\n",
              "      <td>74.0</td>\n",
              "      <td>17520.34</td>\n",
              "      <td>B</td>\n",
              "      <td>Ciudad_B</td>\n",
              "      <td>Pais_X</td>\n",
              "    </tr>\n",
              "    <tr>\n",
              "      <th>187</th>\n",
              "      <td>ID_188</td>\n",
              "      <td>44.0</td>\n",
              "      <td>4102.98</td>\n",
              "      <td>A</td>\n",
              "      <td>NaN</td>\n",
              "      <td>NaN</td>\n",
              "    </tr>\n",
              "    <tr>\n",
              "      <th>202</th>\n",
              "      <td>ID_203</td>\n",
              "      <td>58.0</td>\n",
              "      <td>4608.30</td>\n",
              "      <td>C</td>\n",
              "      <td>NaN</td>\n",
              "      <td>Pais_Y</td>\n",
              "    </tr>\n",
              "    <tr>\n",
              "      <th>212</th>\n",
              "      <td>ID_213</td>\n",
              "      <td>57.0</td>\n",
              "      <td>16821.40</td>\n",
              "      <td>NaN</td>\n",
              "      <td>Ciudad123</td>\n",
              "      <td>NaN</td>\n",
              "    </tr>\n",
              "    <tr>\n",
              "      <th>222</th>\n",
              "      <td>ID_223</td>\n",
              "      <td>32.0</td>\n",
              "      <td>15256.73</td>\n",
              "      <td>NaN</td>\n",
              "      <td>Ciudad_A</td>\n",
              "      <td>NaN</td>\n",
              "    </tr>\n",
              "    <tr>\n",
              "      <th>230</th>\n",
              "      <td>ID_246</td>\n",
              "      <td>70.0</td>\n",
              "      <td>11927.53</td>\n",
              "      <td>a</td>\n",
              "      <td>Ciudad_A</td>\n",
              "      <td>NaN</td>\n",
              "    </tr>\n",
              "    <tr>\n",
              "      <th>249</th>\n",
              "      <td>ID_250</td>\n",
              "      <td>45.0</td>\n",
              "      <td>12777.62</td>\n",
              "      <td>a</td>\n",
              "      <td>Ciudad123</td>\n",
              "      <td>NaN</td>\n",
              "    </tr>\n",
              "    <tr>\n",
              "      <th>260</th>\n",
              "      <td>ID_261</td>\n",
              "      <td>31.0</td>\n",
              "      <td>16767.19</td>\n",
              "      <td>NaN</td>\n",
              "      <td>Ciudad123</td>\n",
              "      <td>Pais_X</td>\n",
              "    </tr>\n",
              "    <tr>\n",
              "      <th>272</th>\n",
              "      <td>ID_273</td>\n",
              "      <td>36.0</td>\n",
              "      <td>5662.07</td>\n",
              "      <td>a</td>\n",
              "      <td>ciudad_a</td>\n",
              "      <td>NaN</td>\n",
              "    </tr>\n",
              "    <tr>\n",
              "      <th>290</th>\n",
              "      <td>ID_291</td>\n",
              "      <td>28.0</td>\n",
              "      <td>6749.09</td>\n",
              "      <td>NaN</td>\n",
              "      <td>Ciudad_B</td>\n",
              "      <td>NaN</td>\n",
              "    </tr>\n",
              "    <tr>\n",
              "      <th>307</th>\n",
              "      <td>ID_308</td>\n",
              "      <td>19.0</td>\n",
              "      <td>5097.94</td>\n",
              "      <td>B</td>\n",
              "      <td>ciudad_a</td>\n",
              "      <td>Pais_Y</td>\n",
              "    </tr>\n",
              "    <tr>\n",
              "      <th>314</th>\n",
              "      <td>ID_315</td>\n",
              "      <td>27.0</td>\n",
              "      <td>3884.64</td>\n",
              "      <td>b</td>\n",
              "      <td>Ciudad_A</td>\n",
              "      <td>Pais_X</td>\n",
              "    </tr>\n",
              "    <tr>\n",
              "      <th>316</th>\n",
              "      <td>ID_317</td>\n",
              "      <td>27.0</td>\n",
              "      <td>17858.67</td>\n",
              "      <td>B</td>\n",
              "      <td>Ciudad_A</td>\n",
              "      <td>Pais_X</td>\n",
              "    </tr>\n",
              "    <tr>\n",
              "      <th>325</th>\n",
              "      <td>ID_326</td>\n",
              "      <td>39.0</td>\n",
              "      <td>8570.03</td>\n",
              "      <td>b</td>\n",
              "      <td>Ciudad_B</td>\n",
              "      <td>NaN</td>\n",
              "    </tr>\n",
              "    <tr>\n",
              "      <th>328</th>\n",
              "      <td>ID_329</td>\n",
              "      <td>22.0</td>\n",
              "      <td>6965.55</td>\n",
              "      <td>a</td>\n",
              "      <td>NaN</td>\n",
              "      <td>NaN</td>\n",
              "    </tr>\n",
              "    <tr>\n",
              "      <th>331</th>\n",
              "      <td>ID_332</td>\n",
              "      <td>37.0</td>\n",
              "      <td>2903.06</td>\n",
              "      <td>B</td>\n",
              "      <td>ciudad_a</td>\n",
              "      <td>Pais_X</td>\n",
              "    </tr>\n",
              "    <tr>\n",
              "      <th>343</th>\n",
              "      <td>ID_344</td>\n",
              "      <td>18.0</td>\n",
              "      <td>1930.35</td>\n",
              "      <td>B</td>\n",
              "      <td>Ciudad-C</td>\n",
              "      <td>NaN</td>\n",
              "    </tr>\n",
              "    <tr>\n",
              "      <th>344</th>\n",
              "      <td>ID_345</td>\n",
              "      <td>76.0</td>\n",
              "      <td>18742.50</td>\n",
              "      <td>VIP</td>\n",
              "      <td>NaN</td>\n",
              "      <td>NaN</td>\n",
              "    </tr>\n",
              "    <tr>\n",
              "      <th>345</th>\n",
              "      <td>ID_346</td>\n",
              "      <td>88.0</td>\n",
              "      <td>17694.74</td>\n",
              "      <td>b</td>\n",
              "      <td>Ciudad_B</td>\n",
              "      <td>Pais_X</td>\n",
              "    </tr>\n",
              "    <tr>\n",
              "      <th>393</th>\n",
              "      <td>ID_394</td>\n",
              "      <td>58.0</td>\n",
              "      <td>7439.77</td>\n",
              "      <td>A</td>\n",
              "      <td>Ciudad123</td>\n",
              "      <td>NaN</td>\n",
              "    </tr>\n",
              "    <tr>\n",
              "      <th>452</th>\n",
              "      <td>ID_453</td>\n",
              "      <td>84.0</td>\n",
              "      <td>6281.84</td>\n",
              "      <td>VIP</td>\n",
              "      <td>Ciudad123</td>\n",
              "      <td>Pais_Y</td>\n",
              "    </tr>\n",
              "    <tr>\n",
              "      <th>479</th>\n",
              "      <td>ID_480</td>\n",
              "      <td>71.0</td>\n",
              "      <td>4729.79</td>\n",
              "      <td>NaN</td>\n",
              "      <td>NaN</td>\n",
              "      <td>NaN</td>\n",
              "    </tr>\n",
              "  </tbody>\n",
              "</table>\n",
              "</div>"
            ],
            "text/plain": [
              "    ID_cliente  Edad  Ingreso_mensual Categoría     Ciudad    País\n",
              "18      ID_019  22.0         12422.06       VIP   Ciudad_B     NaN\n",
              "20      ID_021  29.0          3584.98         C   Ciudad_A     NaN\n",
              "25      ID_026  29.0         11771.21       NaN   Ciudad_B  Pais_Y\n",
              "42      ID_043  89.0         16732.84         b  Ciudad123     NaN\n",
              "51      ID_052  54.0         13878.16         B   Ciudad_A     NaN\n",
              "57      ID_116  78.0          5799.32         A  Ciudad123     NaN\n",
              "76      ID_077  26.0          6953.78         B  Ciudad123     NaN\n",
              "93      ID_094  72.0         14026.67       VIP        NaN  Pais_X\n",
              "106     ID_107  24.0          3797.23         C   Ciudad_B  Pais_X\n",
              "125     ID_126  56.0          5685.07         b  Ciudad123     NaN\n",
              "138     ID_139  57.0          1861.35         A        NaN  Pais_X\n",
              "153     ID_154  31.0         14234.22         B  Ciudad123  Pais_X\n",
              "154     ID_155  51.0          1749.90         C        NaN     NaN\n",
              "155     ID_156  74.0         17520.34         B   Ciudad_B  Pais_X\n",
              "187     ID_188  44.0          4102.98         A        NaN     NaN\n",
              "202     ID_203  58.0          4608.30         C        NaN  Pais_Y\n",
              "212     ID_213  57.0         16821.40       NaN  Ciudad123     NaN\n",
              "222     ID_223  32.0         15256.73       NaN   Ciudad_A     NaN\n",
              "230     ID_246  70.0         11927.53         a   Ciudad_A     NaN\n",
              "249     ID_250  45.0         12777.62         a  Ciudad123     NaN\n",
              "260     ID_261  31.0         16767.19       NaN  Ciudad123  Pais_X\n",
              "272     ID_273  36.0          5662.07         a   ciudad_a     NaN\n",
              "290     ID_291  28.0          6749.09       NaN   Ciudad_B     NaN\n",
              "307     ID_308  19.0          5097.94         B   ciudad_a  Pais_Y\n",
              "314     ID_315  27.0          3884.64         b   Ciudad_A  Pais_X\n",
              "316     ID_317  27.0         17858.67         B   Ciudad_A  Pais_X\n",
              "325     ID_326  39.0          8570.03         b   Ciudad_B     NaN\n",
              "328     ID_329  22.0          6965.55         a        NaN     NaN\n",
              "331     ID_332  37.0          2903.06         B   ciudad_a  Pais_X\n",
              "343     ID_344  18.0          1930.35         B   Ciudad-C     NaN\n",
              "344     ID_345  76.0         18742.50       VIP        NaN     NaN\n",
              "345     ID_346  88.0         17694.74         b   Ciudad_B  Pais_X\n",
              "393     ID_394  58.0          7439.77         A  Ciudad123     NaN\n",
              "452     ID_453  84.0          6281.84       VIP  Ciudad123  Pais_Y\n",
              "479     ID_480  71.0          4729.79       NaN        NaN     NaN"
            ]
          },
          "execution_count": 13,
          "metadata": {},
          "output_type": "execute_result"
        }
      ],
      "source": [
        "#Filtro de ingresos validos (quitar ingresos no numericos y valores negativos)\n",
        "df_filtrado['Ingreso_mensual'] = pd.to_numeric(df_filtrado[\"Ingreso_mensual\"], \n",
        "errors=\"coerce\")\n",
        "df_filtrado = df_filtrado[df_filtrado['Ingreso_mensual']>0]\n",
        "df_filtrado"
      ]
    },
    {
      "cell_type": "markdown",
      "metadata": {
        "id": "L-iSlVAocPFD"
      },
      "source": [
        "# 3 Unificación y normalización de valores(U)"
      ]
    },
    {
      "cell_type": "markdown",
      "metadata": {
        "id": "RZRozr6WcnrN"
      },
      "source": [
        "Estandarizar los nombre de ciudades para tener consistencia en los datos y facilitar el análisis posterir.\n",
        "pasos:\n",
        "Normalización de los nombres de ciudades: Convertir todos los nombres a un formato consistente ,eliminar errores tipográficos y variaciones en mayúsculas/minúsculas también corregiremos cualquier variación que deba agruparse\n",
        "Ejemplos:\n",
        "\"Ciudad_A\" y \"ciudad_a deben ser iguales\n"
      ]
    },
    {
      "cell_type": "markdown",
      "metadata": {
        "id": "kqz_bb-vvnwT"
      },
      "source": [
        "# 4 Muestreo representativo(M):\n"
      ]
    },
    {
      "cell_type": "markdown",
      "metadata": {
        "id": "L3ERbn8hvvpP"
      },
      "source": [
        "Si es necesario, crear un subconjunto de dotos representativos para pruebas iniciales de segmentación\n",
        "pasos:\n",
        "\n",
        "Definir el tamaño de la Muestra:\n",
        "\n",
        "Asegurar representatividad en categorías clave:\n",
        "\n",
        "Revisar y validar la muestra:\n"
      ]
    },
    {
      "cell_type": "markdown",
      "metadata": {
        "id": "qFFLPOZn4As8"
      },
      "source": [
        "# 5 Depuración final (D):\n"
      ]
    },
    {
      "cell_type": "markdown",
      "metadata": {
        "id": "tVJrfCdzu1sZ"
      },
      "source": [
        "# 6 con los datos organizados y depurados:"
      ]
    },
    {
      "cell_type": "markdown",
      "metadata": {
        "id": "2Y_MjcYJu4OR"
      },
      "source": []
    },
    {
      "cell_type": "markdown",
      "metadata": {
        "id": "SchrrRzvu8o9"
      },
      "source": [
        "Aplicar técnicas de segmentación de clientes para identificar distintos perfiles dentro del conjunto de datos.\n"
      ]
    }
  ],
  "metadata": {
    "colab": {
      "provenance": []
    },
    "kernelspec": {
      "display_name": "Python 3",
      "name": "python3"
    },
    "language_info": {
      "codemirror_mode": {
        "name": "ipython",
        "version": 3
      },
      "file_extension": ".py",
      "mimetype": "text/x-python",
      "name": "python",
      "nbconvert_exporter": "python",
      "pygments_lexer": "ipython3",
      "version": "3.13.5"
    }
  },
  "nbformat": 4,
  "nbformat_minor": 0
}
