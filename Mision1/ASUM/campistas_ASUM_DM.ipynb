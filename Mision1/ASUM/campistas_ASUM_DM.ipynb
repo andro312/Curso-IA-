{
  "cells": [
    {
      "cell_type": "markdown",
      "metadata": {
        "id": "d5gO4Q91t5e7"
      },
      "source": [
        "#ASUM-DM"
      ]
    },
    {
      "cell_type": "markdown",
      "metadata": {
        "id": "lELnlzZYusk9"
      },
      "source": [
        " Es un enfoque para la preparación y organización de datos que se enfoca en 5 etapas fundamentales:\n",
        "\n",
        "Análisis, selección, unificación, muestreo y depuración.\n",
        "\n",
        "Este proceso es útil para mejorar la calidad de los datos antes de usarlos en modelos de análisis y aprendizaje automático\n",
        "\n"
      ]
    },
    {
      "cell_type": "markdown",
      "metadata": {
        "id": "UBXoqA_svj8q"
      },
      "source": [
        "Contesto el problema:\n",
        "análisis de clientes para estrategias de marketing personalizada una empresa de servicios financieros quiere lanzar una campaña de marketing personalizada para sus clientes de varias ciudades.\n",
        " La idea es identificar perfiles de clientes en función de características como edad, ingresos y categoría de cliente para definir estrategias.\n",
        "\n",
        "El equipo de marketing ha solicitado los analistas de datos e identificar:\n"
      ]
    },
    {
      "cell_type": "markdown",
      "metadata": {
        "id": "iG5_iHKTwrfl"
      },
      "source": [
        "segmentos de clientes:\n",
        "agrupar a los clientes en función de su categoría, ingresos, edad y ciudad.\n",
        "\n",
        "Tendencias de ingresos:\n",
        " analizar la distribución de los ingresos mensuales y detectar patrones en diferentes ciudades y edades.\n",
        "\n",
        "Clientes potenciales:\n",
        "identificar clientes con altos ingresos y en categoría de alto valor(“A”) para campañas específicas.\n",
        "\n",
        "Sin embargo, el conjunto de datos tiene varios problemas qué dificultan el análisis directo, cómo duplicados, valores atípicos y errores tipográficos.\n",
        "\n",
        "Antes de aplicar modelos de segmentación y análisis de tendencias, es necesario limpiar y organizar la información\n"
      ]
    },
    {
      "cell_type": "markdown",
      "metadata": {
        "id": "mDFyqkoaxErQ"
      },
      "source": [
        "# 1 Análisis de los datos (A):"
      ]
    },
    {
      "cell_type": "markdown",
      "metadata": {
        "id": "F9vwpOZVxLcx"
      },
      "source": [
        "Objetivo:\n",
        "\n",
        " examinar la calidad y característica de los datos.\n",
        "\n",
        " Acciones:\n",
        "  revisar el conjunto de datos para identificar valores faltantes,  datos inconsistentes, duplicados, errores tipográficos y valores atípicos.\n",
        "\n",
        "Este paso permite entender el tipo de problema que podrían afectar el análisis y decidir cómo resolverlos.\n"
      ]
    },
    {
      "cell_type": "markdown",
      "metadata": {
        "id": "chqBNUV78Q0c"
      },
      "source": [
        "# 2 Selección  de los datos (S):"
      ]
    },
    {
      "cell_type": "markdown",
      "metadata": {
        "id": "G3gn6aVt8mRY"
      },
      "source": [
        "Objetivo: Elegir las variables y los registros más relevantes para el análisis.\n"
      ]
    },
    {
      "cell_type": "markdown",
      "metadata": {
        "id": "M-RjHNVX826r"
      },
      "source": [
        "Acciones: Determinar qué columna (atributos) y filas (registros) son útiles para el objetivo del análisis."
      ]
    },
    {
      "cell_type": "markdown",
      "metadata": {
        "id": "uCgsVBoO9YsR"
      },
      "source": [
        "Eliminar variables redundantes, irrelevantes o registros que no aportan valor lo cual ayuda a mejorar la eficiencia del procesamiento."
      ]
    },
    {
      "cell_type": "markdown",
      "metadata": {
        "id": "Cy1fi6-W-3Wr"
      },
      "source": [
        "Filtrado de flilas(registros):\n",
        "Eliminar registros que tengan:\n",
        "Edades fuera del rango razonable (18 a 90).\n",
        "ingresos no númericos o valores negativos.\n",
        "categorías de clientes a \"A\", \"B\", \"C\"\n",
        "\n",
        "\"A\" cliente de alto valor\n",
        "\n",
        "\"B\" cliente de valor medio\n",
        "\n",
        "\"C\" cliente de bajo valor"
      ]
    },
    {
      "cell_type": "markdown",
      "metadata": {
        "id": "L-iSlVAocPFD"
      },
      "source": [
        "# 3 Unificación y normalización de valores(U)"
      ]
    },
    {
      "cell_type": "markdown",
      "metadata": {
        "id": "RZRozr6WcnrN"
      },
      "source": [
        "Estandarizar los nombre de ciudades para tener consistencia en los datos y facilitar el análisis posterir.\n",
        "pasos:\n",
        "Normalización de los nombres de ciudades: Convertir todos los nombres a un formato consistente ,eliminar errores tipográficos y variaciones en mayúsculas/minúsculas también corregiremos cualquier variación que deba agruparse\n",
        "Ejemplos:\n",
        "\"Ciudad_A\" y \"ciudad_a deben ser iguales\n"
      ]
    },
    {
      "cell_type": "markdown",
      "metadata": {
        "id": "kqz_bb-vvnwT"
      },
      "source": [
        "# 4 Muestreo representativo(M):\n"
      ]
    },
    {
      "cell_type": "markdown",
      "metadata": {
        "id": "L3ERbn8hvvpP"
      },
      "source": [
        "Si es necesario, crear un subconjunto de dotos representativos para pruebas iniciales de segmentación\n",
        "pasos:\n",
        "\n",
        "Definir el tamaño de la Muestra:\n",
        "\n",
        "Asegurar representatividad en categorías clave:\n",
        "\n",
        "Revisar y validar la muestra:\n"
      ]
    },
    {
      "cell_type": "markdown",
      "metadata": {
        "id": "qFFLPOZn4As8"
      },
      "source": [
        "# 5 Depuración final (D):\n"
      ]
    },
    {
      "cell_type": "markdown",
      "metadata": {
        "id": "tVJrfCdzu1sZ"
      },
      "source": [
        "# 6 con los datos organizados y depurados:"
      ]
    },
    {
      "cell_type": "markdown",
      "metadata": {
        "id": "2Y_MjcYJu4OR"
      },
      "source": []
    },
    {
      "cell_type": "markdown",
      "metadata": {
        "id": "SchrrRzvu8o9"
      },
      "source": [
        "Aplicar técnicas de segmentación de clientes para identificar distintos perfiles dentro del conjunto de datos.\n"
      ]
    }
  ],
  "metadata": {
    "colab": {
      "provenance": []
    },
    "kernelspec": {
      "display_name": "Python 3",
      "name": "python3"
    },
    "language_info": {
      "name": "python"
    }
  },
  "nbformat": 4,
  "nbformat_minor": 0
}
